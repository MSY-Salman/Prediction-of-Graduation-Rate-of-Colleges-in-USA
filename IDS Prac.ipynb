{
 "cells": [
  {
   "cell_type": "code",
   "execution_count": 108,
   "metadata": {},
   "outputs": [],
   "source": [
    "import math\n",
    "import time\n",
    "import numpy\n",
    "import pandas\n",
    "import requests\n",
    "import matplotlib\n",
    "import numpy as pp\n",
    "import pandas as pd\n",
    "import seaborn as sns\n",
    "from scipy import stats\n",
    "from numpy import random\n",
    "from itertools import combinations\n",
    "from sklearn import tree \n",
    "from sklearn import metrics\n",
    "import statsmodels.api as sm\n",
    "from tabulate import tabulate\n",
    "from functools import partial\n",
    "from termcolor import colored\n",
    "from sklearn.base import clone\n",
    "from numpy.linalg import inv,qr\n",
    "import matplotlib.pyplot as plt\n",
    "from sklearn import linear_model\n",
    "from random import normalvariate\n",
    "from sklearn.cluster import KMeans\n",
    "from pandas import Series,DataFrame\n",
    "from scipy.optimize import minimize\n",
    "from sklearn.decomposition import PCA\n",
    "import statsmodels.formula.api as smf\n",
    "import streamlit as st\n",
    "from statsmodels.formula.api import ols\n",
    "from sklearn.naive_bayes import GaussianNB\n",
    "from statsmodels.stats.anova import anova_lm\n",
    "from sklearn.preprocessing import StandardScaler\n",
    "from sklearn.model_selection import LeaveOneOut\n",
    "from sklearn.linear_model import LinearRegression\n",
    "from sklearn.neighbors import KNeighborsClassifier\n",
    "from sklearn.linear_model import LogisticRegression\n",
    "from sklearn.linear_model import Ridge\n",
    "from sklearn.model_selection import train_test_split\n",
    "from sklearn.model_selection import StratifiedKFold\n",
    "from sklearn.model_selection import LeaveOneOut as LOOCV\n",
    "from scipy.cluster.hierarchy import dendrogram, linkage\n",
    "from sklearn.discriminant_analysis import LinearDiscriminantAnalysis\n",
    "from sklearn.metrics import mean_squared_error as MSE\n",
    "from sklearn.model_selection import (cross_validate,KFold,ShuffleSplit)\n",
    "from sklearn.discriminant_analysis import LinearDiscriminantAnalysis as LDA\n",
    "from sklearn.discriminant_analysis import QuadraticDiscriminantAnalysis as QDA\n",
    "from statsmodels.stats.outliers_influence import variance_inflation_factor as VIF\n",
    "from sklearn.metrics import accuracy_score, classification_report, confusion_matrix\n"
   ]
  },
  {
   "cell_type": "markdown",
   "metadata": {},
   "source": [
    "# Numpy Practice"
   ]
  },
  {
   "cell_type": "code",
   "execution_count": 181,
   "metadata": {},
   "outputs": [
    {
     "data": {
      "text/plain": [
       "(777, 19)"
      ]
     },
     "execution_count": 181,
     "metadata": {},
     "output_type": "execute_result"
    }
   ],
   "source": [
    "data = pd.read_csv(r\"D:\\SALMAN\\ALL+CSV+FILES+-+2nd+Edition+-+corrected\\ALL CSV FILES - 2nd Edition\\College.csv\")\n",
    "# data['Admission_ratio']=(data['Enroll']/data['Apps'])*100\n",
    "# data['Tot']=data[\"Room.Board\"]+data['Personal']+data['Books']\n",
    "data.rename(columns={'Unnamed: 0': 'Colleges'}, inplace=True)\n",
    "data.shape"
   ]
  },
  {
   "cell_type": "code",
   "execution_count": 182,
   "metadata": {},
   "outputs": [
    {
     "name": "stderr",
     "output_type": "stream",
     "text": [
      "C:\\Users\\Dell\\AppData\\Local\\Temp\\ipykernel_22068\\1746185363.py:11: FutureWarning: Series.__getitem__ treating keys as positions is deprecated. In a future version, integer keys will always be treated as labels (consistent with DataFrame behavior). To access a value by position, use `ser.iloc[pos]`\n",
      "  if (b[i] >=( perce/100) or b[i] <=  -(perce/100)) and b[i]!=1:\n"
     ]
    },
    {
     "data": {
      "text/plain": [
       "['Top10perc', 'Top25perc', 'Outstate', 'Room.Board', 'perc.alumni']"
      ]
     },
     "execution_count": 182,
     "metadata": {},
     "output_type": "execute_result"
    }
   ],
   "source": [
    "from sklearn.metrics import mean_squared_error, r2_score\n",
    "from sklearn.model_selection import train_test_split\n",
    "\n",
    "def extract_column_wrt_corr(data,perce):\n",
    "    a=data.drop(columns=['Colleges','Private'])\n",
    "    a1=a.columns\n",
    "    b=a.corr()['Grad.Rate']\n",
    "    l=[]\n",
    "    for i in range(len(b)):\n",
    "        # if b[i] >=0.3 or b[i] <=  -0.3:\n",
    "        if (b[i] >=( perce/100) or b[i] <=  -(perce/100)) and b[i]!=1:\n",
    "            l.append(b.index[i]) \n",
    "    return l\n",
    "X=(extract_column_wrt_corr(data,40))\n",
    "# def perform_regression(col,dictt):\n",
    "#     X = data[col]\n",
    "#     y = data['Grad.Rate']  \n",
    "#     X_train, X_test, y_train, y_test = train_test_split(X, y, test_size=0.20, random_state=42)\n",
    "#     model = LinearRegression()\n",
    "#     model.fit(X_train, y_train)\n",
    "#     y_pred = model.predict(X_test)\n",
    "#     r2 = r2_score(y_test, y_pred)\n",
    "#     mse = mean_squared_error(y_test, y_pred)\n",
    "#     coefficients = model.coef_\n",
    "#     a= model.intercept_\n",
    "\n",
    "#     for i in range(len(coefficients)):\n",
    "#         a+=(coefficients[i]*dictt[coefficients[i].replace(\".\",\"_\")])\n",
    "#     return a\n",
    "\n",
    "# perform_regression(X,dict)\n",
    "X"
   ]
  },
  {
   "cell_type": "markdown",
   "metadata": {},
   "source": [
    "# 1. phd faculty exists more in public college with high grad rate\n"
   ]
  },
  {
   "cell_type": "code",
   "execution_count": null,
   "metadata": {},
   "outputs": [],
   "source": [
    "data['Private']=data['Private'].map({\"Yes\":1,\"No\":0})\n",
    "private_data = data[data['Private'] == 1]\n",
    "public_data = data[data['Private'] == 0]\n",
    "fig, ax = plt.subplots(figsize=(10, 4))\n",
    "ax.scatter(private_data['PhD'], private_data[\"Grad.Rate\"], color='red', label=\"Private Colleges\", marker='x', edgecolors='black', alpha=0.7)\n",
    "ax.scatter(public_data['PhD'], public_data[\"Grad.Rate\"], color='blue', label=\"Public Colleges\", marker='o', edgecolors='black', alpha=0.7)\n",
    "ax.set_xlabel(\"PhD Faculty Count\", fontsize=12, fontweight='bold', color='darkblue')\n",
    "ax.set_ylabel(\"Graduation Rate (%)\", fontsize=12, fontweight='bold', color='darkblue')\n",
    "ax.legend(title=\"College Type\", fontsize=12)\n",
    "ax.grid(True, linestyle='--', alpha=0.7)\n",
    "plt.tight_layout()\n",
    "plt.show(fig)\n",
    "# st.pyplot(fig)\n",
    "# data[data[\"Private\"]==1][\"Grad.Rate\"].mean()\n",
    "# data[data[\"Private\"]==0][\"Grad.Rate\"].mean()"
   ]
  },
  {
   "cell_type": "markdown",
   "metadata": {},
   "source": [
    "# 2. More admission lessen the grad rate"
   ]
  },
  {
   "cell_type": "code",
   "execution_count": null,
   "metadata": {},
   "outputs": [],
   "source": [
    "# data[data['Apps']==data['Apps'].max()]\n",
    "# data[data['Accept']==data['Accept'].max()]\n",
    "# data[data[\"Enroll\"]==data['Enroll'].max()]\n",
    "# data[data['Admission_ratio']==data['Admission_ratio'].max()]\n",
    "plt.scatter(data[\"Admission_ratio\"],data['Grad.Rate'])\n",
    "plt.show()"
   ]
  },
  {
   "cell_type": "markdown",
   "metadata": {},
   "source": [
    "# 3. Outstate impact on grad rate"
   ]
  },
  {
   "cell_type": "code",
   "execution_count": null,
   "metadata": {},
   "outputs": [],
   "source": [
    "# data=data.drop(columns=['Private',\"Colleges\"])\n",
    "# data.corr()[\"Grad.Rate\"]\n",
    "plt.scatter(data['Outstate'],data['Grad.Rate'])\n",
    "plt.show()\n"
   ]
  },
  {
   "cell_type": "markdown",
   "metadata": {},
   "source": [
    "# 4. Colleges types"
   ]
  },
  {
   "cell_type": "code",
   "execution_count": null,
   "metadata": {},
   "outputs": [],
   "source": [
    "plt.pie(data[\"Private\"].value_counts(),labels=[\"Public\",\"Private\"])\n",
    "plt.show()"
   ]
  },
  {
   "cell_type": "markdown",
   "metadata": {},
   "source": [
    "# 5. Outlier detection"
   ]
  },
  {
   "cell_type": "code",
   "execution_count": null,
   "metadata": {},
   "outputs": [],
   "source": [
    "plt.boxplot(data['Grad.Rate'])\n",
    "plt.show()\n"
   ]
  },
  {
   "cell_type": "markdown",
   "metadata": {},
   "source": [
    "# 6. Grad Rate with Brilliant Student Admission"
   ]
  },
  {
   "cell_type": "code",
   "execution_count": null,
   "metadata": {},
   "outputs": [],
   "source": [
    "# data[data['Top10perc']==data['Top10perc'].max()]\n",
    "fig,ax=plt.subplots()\n",
    "ax.scatter(data[\"Top25perc\"],data['Grad.Rate'],c=\"red\",marker='.')\n",
    "ax.scatter(data[\"Top10perc\"],data['Grad.Rate'],c=\"blue\",marker='x')\n",
    "ax.legend(title=\"Student Type\\nTop 10% : Blue\\nTop 25% : red\", fontsize=12)\n",
    "ax.grid(True, linestyle='--', alpha=0.7)\n",
    "plt.tight_layout()\n",
    "plt.show(fig)"
   ]
  },
  {
   "cell_type": "code",
   "execution_count": null,
   "metadata": {},
   "outputs": [],
   "source": [
    "x = st.slider('x')  # 👈 this is a widget\n",
    "st.write(x, 'squared is', x * x)"
   ]
  },
  {
   "cell_type": "code",
   "execution_count": null,
   "metadata": {},
   "outputs": [],
   "source": [
    "st.text_input(\"Your name\", key=\"name\")\n",
    "\n",
    "# You can access the value at any point with:\n",
    "st.session_state.name"
   ]
  },
  {
   "cell_type": "code",
   "execution_count": null,
   "metadata": {},
   "outputs": [],
   "source": [
    "\n",
    "if st.checkbox('Show dataframe'):\n",
    "    chart_data = pd.DataFrame(\n",
    "       np.random.randn(20, 3),\n",
    "       columns=['a', 'b', 'c'])\n",
    "\n",
    "    chart_data"
   ]
  },
  {
   "cell_type": "code",
   "execution_count": null,
   "metadata": {},
   "outputs": [],
   "source": [
    "\n",
    "df = pd.DataFrame({\n",
    "    'first column': [1, 2, 3, 4],\n",
    "    'second column': [10, 20, 30, 40]\n",
    "    })\n",
    "\n",
    "option = st.selectbox(\n",
    "    'Which number do you like best?',\n",
    "     df['first column'])\n",
    "\n",
    "'You selected: ', option"
   ]
  },
  {
   "cell_type": "code",
   "execution_count": null,
   "metadata": {},
   "outputs": [],
   "source": [
    "\n",
    "left_column, right_column = st.columns(2)\n",
    "# You can use a column just like st.sidebar:\n",
    "left_column.button('Press me!')\n",
    "\n",
    "# Or even better, call Streamlit functions inside a \"with\" block:\n",
    "with right_column:\n",
    "    chosen = st.radio(\n",
    "        'Sorting hat',\n",
    "        (\"Gryffindor\", \"Ravenclaw\", \"Hufflepuff\", \"Slytherin\"))\n",
    "    st.write(f\"You are in {chosen} house!\")"
   ]
  },
  {
   "cell_type": "code",
   "execution_count": null,
   "metadata": {},
   "outputs": [],
   "source": [
    "\n",
    "'Starting a long computation...'\n",
    "\n",
    "# Add a placeholder\n",
    "latest_iteration = st.empty()\n",
    "bar = st.progress(0)\n",
    "\n",
    "for i in range(100):\n",
    "  # Update the progress bar with each iteration.\n",
    "  latest_iteration.text(f'Iteration {i+1}')\n",
    "  bar.progress(i + 1)\n",
    "  time.sleep(0.1)\n",
    "\n",
    "'...and now we\\'re done!'"
   ]
  }
 ],
 "metadata": {
  "kernelspec": {
   "display_name": "Python 3",
   "language": "python",
   "name": "python3"
  },
  "language_info": {
   "codemirror_mode": {
    "name": "ipython",
    "version": 3
   },
   "file_extension": ".py",
   "mimetype": "text/x-python",
   "name": "python",
   "nbconvert_exporter": "python",
   "pygments_lexer": "ipython3",
   "version": "3.12.8"
  }
 },
 "nbformat": 4,
 "nbformat_minor": 2
}
